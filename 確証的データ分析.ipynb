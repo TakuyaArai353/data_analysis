{
 "cells": [
  {
   "cell_type": "code",
   "execution_count": 2,
   "id": "7d3d6eaf-f5e2-45d4-9e62-0567a2a5c943",
   "metadata": {
    "collapsed": true,
    "jupyter": {
     "outputs_hidden": true
    },
    "tags": []
   },
   "outputs": [
    {
     "name": "stdout",
     "output_type": "stream",
     "text": [
      "Requirement already satisfied: japanize_matplotlib in /home/studio-lab-user/.conda/envs/default/lib/python3.9/site-packages (1.1.3)\n",
      "Requirement already satisfied: matplotlib in /home/studio-lab-user/.conda/envs/default/lib/python3.9/site-packages (from japanize_matplotlib) (3.6.2)\n",
      "Requirement already satisfied: pyparsing>=2.2.1 in /home/studio-lab-user/.conda/envs/default/lib/python3.9/site-packages (from matplotlib->japanize_matplotlib) (3.0.8)\n",
      "Requirement already satisfied: kiwisolver>=1.0.1 in /home/studio-lab-user/.conda/envs/default/lib/python3.9/site-packages (from matplotlib->japanize_matplotlib) (1.4.4)\n",
      "Requirement already satisfied: contourpy>=1.0.1 in /home/studio-lab-user/.conda/envs/default/lib/python3.9/site-packages (from matplotlib->japanize_matplotlib) (1.0.6)\n",
      "Requirement already satisfied: cycler>=0.10 in /home/studio-lab-user/.conda/envs/default/lib/python3.9/site-packages (from matplotlib->japanize_matplotlib) (0.11.0)\n",
      "Requirement already satisfied: numpy>=1.19 in /home/studio-lab-user/.conda/envs/default/lib/python3.9/site-packages (from matplotlib->japanize_matplotlib) (1.22.4)\n",
      "Requirement already satisfied: packaging>=20.0 in /home/studio-lab-user/.conda/envs/default/lib/python3.9/site-packages (from matplotlib->japanize_matplotlib) (21.3)\n",
      "Requirement already satisfied: fonttools>=4.22.0 in /home/studio-lab-user/.conda/envs/default/lib/python3.9/site-packages (from matplotlib->japanize_matplotlib) (4.38.0)\n",
      "Requirement already satisfied: pillow>=6.2.0 in /home/studio-lab-user/.conda/envs/default/lib/python3.9/site-packages (from matplotlib->japanize_matplotlib) (9.3.0)\n",
      "Requirement already satisfied: python-dateutil>=2.7 in /home/studio-lab-user/.conda/envs/default/lib/python3.9/site-packages (from matplotlib->japanize_matplotlib) (2.8.2)\n",
      "Requirement already satisfied: six>=1.5 in /home/studio-lab-user/.conda/envs/default/lib/python3.9/site-packages (from python-dateutil>=2.7->matplotlib->japanize_matplotlib) (1.16.0)\n"
     ]
    }
   ],
   "source": [
    "!pip install japanize_matplotlib"
   ]
  },
  {
   "cell_type": "markdown",
   "id": "c6587894-98ca-4e57-a715-5567174810b0",
   "metadata": {},
   "source": [
    "# 確証的データ分析"
   ]
  },
  {
   "cell_type": "code",
   "execution_count": 9,
   "id": "e6f5978c-fe8a-4fd1-b53f-fb7c6cf5bb3a",
   "metadata": {},
   "outputs": [],
   "source": [
    "import numpy as np\n",
    "import pandas as pd\n",
    "import matplotlib.pyplot as plt\n",
    "import seaborn as sns\n",
    "import japanize_matplotlib\n",
    "\n",
    "from scipy import stats\n",
    "import warnings\n",
    "warnings.filterwarnings('ignore')\n",
    "plt.style.use('bmh')"
   ]
  },
  {
   "cell_type": "markdown",
   "id": "4d89ef47-02d6-4ffa-9893-49eb6c3d7c47",
   "metadata": {},
   "source": [
    "## 平均に関する検定\n",
    "1. 仮説を立てる\n",
    "2. 有意水準を決める\n",
    "3. Ｐ値を求める\n",
    "4. 判定"
   ]
  },
  {
   "cell_type": "markdown",
   "id": "5684fd07-c713-456b-b53b-2abab88ddc4e",
   "metadata": {},
   "source": [
    "【問題設定 1】  \n",
    "渋谷を担当するコンビニチェーンのエリアマネージャーは、クーポンシールの導入を検討しています。    \n",
    "販促効果を確認するため、渋谷エリアにある店舗の中から無作為に10 店舗選び、  \n",
    "クーポンシールによる販促前と販促後の売上データを取得しました。"
   ]
  },
  {
   "cell_type": "code",
   "execution_count": 4,
   "id": "e884b426-7e17-4567-af6e-3c167044648e",
   "metadata": {},
   "outputs": [],
   "source": [
    "# データの読み込み\n",
    "df = pd.read_csv('sample_01.csv')"
   ]
  },
  {
   "cell_type": "code",
   "execution_count": 6,
   "id": "7c9077da-6260-4342-8358-3bf50e03bcff",
   "metadata": {},
   "outputs": [
    {
     "data": {
      "text/html": [
       "<div>\n",
       "<style scoped>\n",
       "    .dataframe tbody tr th:only-of-type {\n",
       "        vertical-align: middle;\n",
       "    }\n",
       "\n",
       "    .dataframe tbody tr th {\n",
       "        vertical-align: top;\n",
       "    }\n",
       "\n",
       "    .dataframe thead th {\n",
       "        text-align: right;\n",
       "    }\n",
       "</style>\n",
       "<table border=\"1\" class=\"dataframe\">\n",
       "  <thead>\n",
       "    <tr style=\"text-align: right;\">\n",
       "      <th></th>\n",
       "      <th>No</th>\n",
       "      <th>販促前</th>\n",
       "      <th>販促後</th>\n",
       "    </tr>\n",
       "  </thead>\n",
       "  <tbody>\n",
       "    <tr>\n",
       "      <th>0</th>\n",
       "      <td>初台店</td>\n",
       "      <td>69</td>\n",
       "      <td>73</td>\n",
       "    </tr>\n",
       "    <tr>\n",
       "      <th>1</th>\n",
       "      <td>代々木店</td>\n",
       "      <td>81</td>\n",
       "      <td>82</td>\n",
       "    </tr>\n",
       "    <tr>\n",
       "      <th>2</th>\n",
       "      <td>幡ヶ谷店</td>\n",
       "      <td>64</td>\n",
       "      <td>68</td>\n",
       "    </tr>\n",
       "    <tr>\n",
       "      <th>3</th>\n",
       "      <td>笹塚店</td>\n",
       "      <td>79</td>\n",
       "      <td>81</td>\n",
       "    </tr>\n",
       "    <tr>\n",
       "      <th>4</th>\n",
       "      <td>西原店</td>\n",
       "      <td>64</td>\n",
       "      <td>72</td>\n",
       "    </tr>\n",
       "    <tr>\n",
       "      <th>5</th>\n",
       "      <td>渋谷店</td>\n",
       "      <td>110</td>\n",
       "      <td>114</td>\n",
       "    </tr>\n",
       "    <tr>\n",
       "      <th>6</th>\n",
       "      <td>松濤店</td>\n",
       "      <td>72</td>\n",
       "      <td>73</td>\n",
       "    </tr>\n",
       "    <tr>\n",
       "      <th>7</th>\n",
       "      <td>千駄ヶ谷店</td>\n",
       "      <td>92</td>\n",
       "      <td>94</td>\n",
       "    </tr>\n",
       "    <tr>\n",
       "      <th>8</th>\n",
       "      <td>広尾店</td>\n",
       "      <td>83</td>\n",
       "      <td>88</td>\n",
       "    </tr>\n",
       "    <tr>\n",
       "      <th>9</th>\n",
       "      <td>神宮前店</td>\n",
       "      <td>78</td>\n",
       "      <td>82</td>\n",
       "    </tr>\n",
       "  </tbody>\n",
       "</table>\n",
       "</div>"
      ],
      "text/plain": [
       "      No  販促前  販促後\n",
       "0    初台店   69   73\n",
       "1   代々木店   81   82\n",
       "2   幡ヶ谷店   64   68\n",
       "3    笹塚店   79   81\n",
       "4    西原店   64   72\n",
       "5    渋谷店  110  114\n",
       "6    松濤店   72   73\n",
       "7  千駄ヶ谷店   92   94\n",
       "8    広尾店   83   88\n",
       "9   神宮前店   78   82"
      ]
     },
     "execution_count": 6,
     "metadata": {},
     "output_type": "execute_result"
    }
   ],
   "source": [
    "df"
   ]
  },
  {
   "cell_type": "code",
   "execution_count": 10,
   "id": "2f79781d-8547-408f-ae7b-bdccfa247c70",
   "metadata": {},
   "outputs": [
    {
     "data": {
      "text/plain": [
       "販促前    79.2\n",
       "販促後    82.7\n",
       "dtype: float64"
      ]
     },
     "execution_count": 10,
     "metadata": {},
     "output_type": "execute_result"
    }
   ],
   "source": [
    "# 平均値\n",
    "df.mean()"
   ]
  },
  {
   "cell_type": "code",
   "execution_count": 14,
   "id": "c2a510ea-7696-4df6-96b2-ab9f6aff91b9",
   "metadata": {},
   "outputs": [
    {
     "data": {
      "text/plain": [
       "<AxesSubplot: xlabel='販促後', ylabel='Density'>"
      ]
     },
     "execution_count": 14,
     "metadata": {},
     "output_type": "execute_result"
    },
    {
     "data": {
      "image/png": "[encoded data removed]",
      "text/plain": [
       "<Figure size 720x288 with 2 Axes>"
      ]
     },
     "metadata": {
      "needs_background": "light"
     },
     "output_type": "display_data"
    }
   ],
   "source": [
    "# 分布の確認\n",
    "plt.figure(figsize=(10, 4))\n",
    "plt.subplot(1, 2, 1)\n",
    "sns.distplot(df['販促前'], bins=10)\n",
    "plt.subplot(1, 2, 2)\n",
    "sns.distplot(df['販促後'], bins=10)"
   ]
  },
  {
   "cell_type": "code",
   "execution_count": 20,
   "id": "92f4a312-53f9-4909-93ad-1137df68f262",
   "metadata": {},
   "outputs": [
    {
     "data": {
      "text/plain": [
       "0.23636476695537567"
      ]
     },
     "execution_count": 20,
     "metadata": {},
     "output_type": "execute_result"
    }
   ],
   "source": [
    "# 正規性の検定（シャピロ・ウィルク検定）\n",
    "static, pvalue = stats.shapiro(df['販促前'])\n",
    "pvalue"
   ]
  },
  {
   "cell_type": "code",
   "execution_count": 21,
   "id": "9f118328-0f8b-425c-baa2-17a10334ba63",
   "metadata": {},
   "outputs": [
    {
     "data": {
      "text/plain": [
       "0.10092706978321075"
      ]
     },
     "execution_count": 21,
     "metadata": {},
     "output_type": "execute_result"
    }
   ],
   "source": [
    "static, pvalue = stats.shapiro(df['販促後'])\n",
    "pvalue"
   ]
  },
  {
   "cell_type": "markdown",
   "id": "fdf259d1-c97d-4ac1-9c71-bbd551879c08",
   "metadata": {},
   "source": [
    " - 仮説を立てる\n",
    "    - 帰無仮説: 2 群間の平均値に差がない\n",
    "    - 対立仮説: 2 群間の平均値に差がある\n",
    " - 有意水準\n",
    "    - 5%\n",
    " - p値\n",
    "    - 0.00055 < 0.05\n",
    " - 判定\n",
    "    - 帰無仮説を棄却\n",
    "    - 2群間の平均値に差がある"
   ]
  },
  {
   "cell_type": "code",
   "execution_count": 22,
   "id": "e643fd6a-3722-421e-a784-384d4ddfc6d2",
   "metadata": {},
   "outputs": [
    {
     "data": {
      "text/plain": [
       "Ttest_relResult(statistic=-5.217491947499509, pvalue=0.0005510378621158206)"
      ]
     },
     "execution_count": 22,
     "metadata": {},
     "output_type": "execute_result"
    }
   ],
   "source": [
    "stats.ttest_rel(df['販促前'], df['販促後'])"
   ]
  },
  {
   "cell_type": "markdown",
   "id": "2cbd8f1a-f3b9-4e62-8e28-bf0641088e1a",
   "metadata": {},
   "source": [
    "【問題設定 2】  \n",
    "多店舗展開している居酒屋チェーンがあります。  \n",
    "エリアごとのある月の売上データを、無作為に新宿エリアから 10 店舗、  \n",
    "渋谷エリアから 10 店舗選び、月の売上高を集計しました。  \n",
    "売上高の平均は、新宿エリアのほうが、657,000 円、渋谷エリアは、585,125 円です。  \n",
    "エリアごとの平均売上高に違いがあると言えるでしょうか。"
   ]
  },
  {
   "cell_type": "code",
   "execution_count": 24,
   "id": "12e5c5ed-4956-4bf3-9afc-0b3a78b4c4c9",
   "metadata": {},
   "outputs": [],
   "source": [
    "df = pd.read_csv('sample_02.csv')"
   ]
  },
  {
   "cell_type": "code",
   "execution_count": 25,
   "id": "5e754760-2037-4a60-9772-e5b828715244",
   "metadata": {},
   "outputs": [
    {
     "data": {
      "text/html": [
       "<div>\n",
       "<style scoped>\n",
       "    .dataframe tbody tr th:only-of-type {\n",
       "        vertical-align: middle;\n",
       "    }\n",
       "\n",
       "    .dataframe tbody tr th {\n",
       "        vertical-align: top;\n",
       "    }\n",
       "\n",
       "    .dataframe thead th {\n",
       "        text-align: right;\n",
       "    }\n",
       "</style>\n",
       "<table border=\"1\" class=\"dataframe\">\n",
       "  <thead>\n",
       "    <tr style=\"text-align: right;\">\n",
       "      <th></th>\n",
       "      <th>No</th>\n",
       "      <th>新宿エリア</th>\n",
       "      <th>渋谷エリア</th>\n",
       "    </tr>\n",
       "  </thead>\n",
       "  <tbody>\n",
       "    <tr>\n",
       "      <th>0</th>\n",
       "      <td>1</td>\n",
       "      <td>440</td>\n",
       "      <td>325</td>\n",
       "    </tr>\n",
       "    <tr>\n",
       "      <th>1</th>\n",
       "      <td>2</td>\n",
       "      <td>480</td>\n",
       "      <td>934</td>\n",
       "    </tr>\n",
       "    <tr>\n",
       "      <th>2</th>\n",
       "      <td>3</td>\n",
       "      <td>525</td>\n",
       "      <td>458</td>\n",
       "    </tr>\n",
       "    <tr>\n",
       "      <th>3</th>\n",
       "      <td>4</td>\n",
       "      <td>691</td>\n",
       "      <td>982</td>\n",
       "    </tr>\n",
       "    <tr>\n",
       "      <th>4</th>\n",
       "      <td>5</td>\n",
       "      <td>737</td>\n",
       "      <td>340</td>\n",
       "    </tr>\n",
       "    <tr>\n",
       "      <th>5</th>\n",
       "      <td>6</td>\n",
       "      <td>725</td>\n",
       "      <td>340</td>\n",
       "    </tr>\n",
       "    <tr>\n",
       "      <th>6</th>\n",
       "      <td>7</td>\n",
       "      <td>734</td>\n",
       "      <td>382</td>\n",
       "    </tr>\n",
       "    <tr>\n",
       "      <th>7</th>\n",
       "      <td>8</td>\n",
       "      <td>502</td>\n",
       "      <td>820</td>\n",
       "    </tr>\n",
       "    <tr>\n",
       "      <th>8</th>\n",
       "      <td>9</td>\n",
       "      <td>763</td>\n",
       "      <td>963</td>\n",
       "    </tr>\n",
       "    <tr>\n",
       "      <th>9</th>\n",
       "      <td>10</td>\n",
       "      <td>973</td>\n",
       "      <td>673</td>\n",
       "    </tr>\n",
       "  </tbody>\n",
       "</table>\n",
       "</div>"
      ],
      "text/plain": [
       "   No  新宿エリア  渋谷エリア\n",
       "0   1    440    325\n",
       "1   2    480    934\n",
       "2   3    525    458\n",
       "3   4    691    982\n",
       "4   5    737    340\n",
       "5   6    725    340\n",
       "6   7    734    382\n",
       "7   8    502    820\n",
       "8   9    763    963\n",
       "9  10    973    673"
      ]
     },
     "execution_count": 25,
     "metadata": {},
     "output_type": "execute_result"
    }
   ],
   "source": [
    "df"
   ]
  },
  {
   "cell_type": "code",
   "execution_count": 26,
   "id": "b63fb86c-6791-4864-8769-39d686543f56",
   "metadata": {},
   "outputs": [
    {
     "data": {
      "text/plain": [
       "No         5.5\n",
       "新宿エリア    657.0\n",
       "渋谷エリア    621.7\n",
       "dtype: float64"
      ]
     },
     "execution_count": 26,
     "metadata": {},
     "output_type": "execute_result"
    }
   ],
   "source": [
    "df.mean()"
   ]
  },
  {
   "cell_type": "code",
   "execution_count": 27,
   "id": "744c41bf-4542-4e94-97e4-8cdc5c44d70f",
   "metadata": {},
   "outputs": [
    {
     "data": {
      "text/plain": [
       "<AxesSubplot: xlabel='渋谷エリア', ylabel='Density'>"
      ]
     },
     "execution_count": 27,
     "metadata": {},
     "output_type": "execute_result"
    },
    {
     "data": {
      "image/png": "[encoded data removed]",
      "text/plain": [
       "<Figure size 720x288 with 2 Axes>"
      ]
     },
     "metadata": {
      "needs_background": "light"
     },
     "output_type": "display_data"
    }
   ],
   "source": [
    "# 分布の確認\n",
    "plt.figure(figsize=(10, 4))\n",
    "plt.subplot(1, 2, 1)\n",
    "sns.distplot(df['新宿エリア'], bins=10)\n",
    "plt.subplot(1, 2, 2)\n",
    "sns.distplot(df['渋谷エリア'], bins=10)"
   ]
  },
  {
   "cell_type": "code",
   "execution_count": 28,
   "id": "a8fb6160-88aa-4bfb-932f-85170746a288",
   "metadata": {},
   "outputs": [
    {
     "data": {
      "text/plain": [
       "0.03403930366039276"
      ]
     },
     "execution_count": 28,
     "metadata": {},
     "output_type": "execute_result"
    }
   ],
   "source": [
    "# 正規性の検定（シャピロ・ウィルク検定）\n",
    "static, pvalue = stats.shapiro(df['渋谷エリア'])\n",
    "pvalue"
   ]
  },
  {
   "cell_type": "markdown",
   "id": "36db4d00-48a2-4369-a9aa-c64ce7a3ada1",
   "metadata": {},
   "source": [
    "- 仮説立て\n",
    "    - 帰無仮説：2群間の平均値に差が無い\n",
    "    - 対立仮説：2群間の平均値に差がある\n",
    "- 有意水準\n",
    "    - 5%\n",
    "- p値\n",
    "    - 0.570605503511469 > 0.05\n",
    "- 判定\n",
    "    - 帰無仮説を棄却できない"
   ]
  },
  {
   "cell_type": "code",
   "execution_count": 30,
   "id": "4f7fbe78-fbe4-4837-bc39-b8965e909403",
   "metadata": {},
   "outputs": [
    {
     "data": {
      "text/plain": [
       "MannwhitneyuResult(statistic=58.0, pvalue=0.570605503511469)"
      ]
     },
     "execution_count": 30,
     "metadata": {},
     "output_type": "execute_result"
    }
   ],
   "source": [
    "# マンホイットニーのＵ検定\n",
    "stats.mannwhitneyu(df['新宿エリア'], df['渋谷エリア'], alternative='two-sided')"
   ]
  }
 ],
 "metadata": {
  "kernelspec": {
   "display_name": "default:Python",
   "language": "python",
   "name": "conda-env-default-py"
  },
  "language_info": {
   "codemirror_mode": {
    "name": "ipython",
    "version": 3
   },
   "file_extension": ".py",
   "mimetype": "text/x-python",
   "name": "python",
   "nbconvert_exporter": "python",
   "pygments_lexer": "ipython3",
   "version": "3.9.12"
  }
 },
 "nbformat": 4,
 "nbformat_minor": 5
}
