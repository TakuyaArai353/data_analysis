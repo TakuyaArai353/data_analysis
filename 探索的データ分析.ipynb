{
 "cells": [
  {
   "cell_type": "code",
   "execution_count": 26,
   "id": "2c2de992-7e74-4b94-9510-49a9a619c92e",
   "metadata": {
    "collapsed": true,
    "jupyter": {
     "outputs_hidden": true
    },
    "tags": []
   },
   "outputs": [
    {
     "name": "stdout",
     "output_type": "stream",
     "text": [
      "Collecting japanize_matplotlib\n",
      "  Downloading japanize-matplotlib-1.1.3.tar.gz (4.1 MB)\n",
      "\u001b[K     |████████████████████████████████| 4.1 MB 2.6 MB/s eta 0:00:01\n",
      "\u001b[?25hRequirement already satisfied: matplotlib in /home/studio-lab-user/.conda/envs/default/lib/python3.9/site-packages (from japanize_matplotlib) (3.6.2)\n",
      "Requirement already satisfied: pyparsing>=2.2.1 in /home/studio-lab-user/.conda/envs/default/lib/python3.9/site-packages (from matplotlib->japanize_matplotlib) (3.0.8)\n",
      "Requirement already satisfied: fonttools>=4.22.0 in /home/studio-lab-user/.conda/envs/default/lib/python3.9/site-packages (from matplotlib->japanize_matplotlib) (4.38.0)\n",
      "Requirement already satisfied: packaging>=20.0 in /home/studio-lab-user/.conda/envs/default/lib/python3.9/site-packages (from matplotlib->japanize_matplotlib) (21.3)\n",
      "Requirement already satisfied: contourpy>=1.0.1 in /home/studio-lab-user/.conda/envs/default/lib/python3.9/site-packages (from matplotlib->japanize_matplotlib) (1.0.6)\n",
      "Requirement already satisfied: python-dateutil>=2.7 in /home/studio-lab-user/.conda/envs/default/lib/python3.9/site-packages (from matplotlib->japanize_matplotlib) (2.8.2)\n",
      "Requirement already satisfied: numpy>=1.19 in /home/studio-lab-user/.conda/envs/default/lib/python3.9/site-packages (from matplotlib->japanize_matplotlib) (1.22.4)\n",
      "Requirement already satisfied: pillow>=6.2.0 in /home/studio-lab-user/.conda/envs/default/lib/python3.9/site-packages (from matplotlib->japanize_matplotlib) (9.3.0)\n",
      "Requirement already satisfied: kiwisolver>=1.0.1 in /home/studio-lab-user/.conda/envs/default/lib/python3.9/site-packages (from matplotlib->japanize_matplotlib) (1.4.4)\n",
      "Requirement already satisfied: cycler>=0.10 in /home/studio-lab-user/.conda/envs/default/lib/python3.9/site-packages (from matplotlib->japanize_matplotlib) (0.11.0)\n",
      "Requirement already satisfied: six>=1.5 in /home/studio-lab-user/.conda/envs/default/lib/python3.9/site-packages (from python-dateutil>=2.7->matplotlib->japanize_matplotlib) (1.16.0)\n",
      "Building wheels for collected packages: japanize-matplotlib\n",
      "  Building wheel for japanize-matplotlib (setup.py) ... \u001b[?25ldone\n",
      "\u001b[?25h  Created wheel for japanize-matplotlib: filename=japanize_matplotlib-1.1.3-py3-none-any.whl size=4120275 sha256=33e8de68ca315b90a94b43e6de4569611dd1ab03fba97e69bfc95dc12a4b847b\n",
      "  Stored in directory: /home/studio-lab-user/.cache/pip/wheels/91/8f/c2/83055ad0c9591b0a094730aa7cb2cc12fedacbcd2241baf534\n",
      "Successfully built japanize-matplotlib\n",
      "Installing collected packages: japanize-matplotlib\n",
      "Successfully installed japanize-matplotlib-1.1.3\n"
     ]
    }
   ],
   "source": [
    "!pip install japanize_matplotlib"
   ]
  },
  {
   "cell_type": "markdown",
   "id": "56fa2812-16bd-4de3-a27f-30101e745e84",
   "metadata": {
    "tags": []
   },
   "source": [
    "# 探索的データ分析\n",
    "##### ・探索的データ分析は、データ・セットを分析および調査し、主な特性を要約するために使用する手法。\n",
    "##### ・データ可視化の手法が活用され,パターンを見つけ出すことや、異常に気付き、仮説を検証し、仮定を確認することを容易にする"
   ]
  },
  {
   "cell_type": "code",
   "execution_count": 52,
   "id": "f7248a7b-7186-4d99-9bf5-831601b6d974",
   "metadata": {},
   "outputs": [],
   "source": [
    "import pandas as pd\n",
    "import matplotlib.pyplot as plt\n",
    "import japanize_matplotlib\n",
    "import seaborn as sns"
   ]
  },
  {
   "cell_type": "markdown",
   "id": "cfd3176c-b232-4352-8ad2-1196882fc584",
   "metadata": {
    "tags": []
   },
   "source": [
    "### データの読み込み"
   ]
  },
  {
   "cell_type": "code",
   "execution_count": 4,
   "id": "f5999d83-5103-4e56-b5d8-c14c0504daaf",
   "metadata": {},
   "outputs": [],
   "source": [
    "df = pd.read_csv(\"hotel_reviews.csv\")"
   ]
  },
  {
   "cell_type": "code",
   "execution_count": 6,
   "id": "f708d9f8-001f-4349-bddb-970e7ecf0326",
   "metadata": {},
   "outputs": [
    {
     "data": {
      "text/html": [
       "<div>\n",
       "<style scoped>\n",
       "    .dataframe tbody tr th:only-of-type {\n",
       "        vertical-align: middle;\n",
       "    }\n",
       "\n",
       "    .dataframe tbody tr th {\n",
       "        vertical-align: top;\n",
       "    }\n",
       "\n",
       "    .dataframe thead th {\n",
       "        text-align: right;\n",
       "    }\n",
       "</style>\n",
       "<table border=\"1\" class=\"dataframe\">\n",
       "  <thead>\n",
       "    <tr style=\"text-align: right;\">\n",
       "      <th></th>\n",
       "      <th>性別</th>\n",
       "      <th>年齢</th>\n",
       "      <th>個人/グループ</th>\n",
       "      <th>旅行の目的</th>\n",
       "      <th>Wifi設備</th>\n",
       "      <th>送迎の便利さ</th>\n",
       "      <th>オンライン予約のしやすさ</th>\n",
       "      <th>ホテルの立地</th>\n",
       "      <th>食事の満足度</th>\n",
       "      <th>滞在時の快適さ</th>\n",
       "      <th>チェックイン・アウトの接客</th>\n",
       "      <th>その他のサービス</th>\n",
       "      <th>清潔さ</th>\n",
       "      <th>満足度</th>\n",
       "    </tr>\n",
       "  </thead>\n",
       "  <tbody>\n",
       "    <tr>\n",
       "      <th>0</th>\n",
       "      <td>女性</td>\n",
       "      <td>50</td>\n",
       "      <td>グループ</td>\n",
       "      <td>学生</td>\n",
       "      <td>4</td>\n",
       "      <td>4</td>\n",
       "      <td>4</td>\n",
       "      <td>4</td>\n",
       "      <td>3</td>\n",
       "      <td>4</td>\n",
       "      <td>4</td>\n",
       "      <td>4</td>\n",
       "      <td>4</td>\n",
       "      <td>4</td>\n",
       "    </tr>\n",
       "    <tr>\n",
       "      <th>1</th>\n",
       "      <td>女性</td>\n",
       "      <td>35</td>\n",
       "      <td>個人</td>\n",
       "      <td>ビジネス</td>\n",
       "      <td>4</td>\n",
       "      <td>5</td>\n",
       "      <td>4</td>\n",
       "      <td>4</td>\n",
       "      <td>1</td>\n",
       "      <td>1</td>\n",
       "      <td>5</td>\n",
       "      <td>4</td>\n",
       "      <td>1</td>\n",
       "      <td>2</td>\n",
       "    </tr>\n",
       "    <tr>\n",
       "      <th>2</th>\n",
       "      <td>女性</td>\n",
       "      <td>22</td>\n",
       "      <td>グループ</td>\n",
       "      <td>その他</td>\n",
       "      <td>1</td>\n",
       "      <td>1</td>\n",
       "      <td>1</td>\n",
       "      <td>4</td>\n",
       "      <td>1</td>\n",
       "      <td>5</td>\n",
       "      <td>1</td>\n",
       "      <td>3</td>\n",
       "      <td>1</td>\n",
       "      <td>3</td>\n",
       "    </tr>\n",
       "    <tr>\n",
       "      <th>3</th>\n",
       "      <td>男性</td>\n",
       "      <td>30</td>\n",
       "      <td>個人</td>\n",
       "      <td>航空関係</td>\n",
       "      <td>3</td>\n",
       "      <td>4</td>\n",
       "      <td>3</td>\n",
       "      <td>4</td>\n",
       "      <td>5</td>\n",
       "      <td>1</td>\n",
       "      <td>4</td>\n",
       "      <td>4</td>\n",
       "      <td>5</td>\n",
       "      <td>3</td>\n",
       "    </tr>\n",
       "    <tr>\n",
       "      <th>4</th>\n",
       "      <td>男性</td>\n",
       "      <td>59</td>\n",
       "      <td>グループ</td>\n",
       "      <td>航空関係</td>\n",
       "      <td>4</td>\n",
       "      <td>3</td>\n",
       "      <td>3</td>\n",
       "      <td>3</td>\n",
       "      <td>4</td>\n",
       "      <td>4</td>\n",
       "      <td>3</td>\n",
       "      <td>5</td>\n",
       "      <td>4</td>\n",
       "      <td>4</td>\n",
       "    </tr>\n",
       "  </tbody>\n",
       "</table>\n",
       "</div>"
      ],
      "text/plain": [
       "   性別  年齢 個人/グループ 旅行の目的  Wifi設備  送迎の便利さ  オンライン予約のしやすさ  ホテルの立地  食事の満足度  \\\n",
       "0  女性  50    グループ    学生       4       4             4       4       3   \n",
       "1  女性  35      個人  ビジネス       4       5             4       4       1   \n",
       "2  女性  22    グループ   その他       1       1             1       4       1   \n",
       "3  男性  30      個人  航空関係       3       4             3       4       5   \n",
       "4  男性  59    グループ  航空関係       4       3             3       3       4   \n",
       "\n",
       "   滞在時の快適さ  チェックイン・アウトの接客  その他のサービス  清潔さ  満足度  \n",
       "0        4              4         4    4    4  \n",
       "1        1              5         4    1    2  \n",
       "2        5              1         3    1    3  \n",
       "3        1              4         4    5    3  \n",
       "4        4              3         5    4    4  "
      ]
     },
     "execution_count": 6,
     "metadata": {},
     "output_type": "execute_result"
    }
   ],
   "source": [
    "df.head()"
   ]
  },
  {
   "cell_type": "code",
   "execution_count": 7,
   "id": "095124ad-5974-4f95-a1c7-64659edbcd38",
   "metadata": {},
   "outputs": [
    {
     "data": {
      "text/plain": [
       "(10000, 14)"
      ]
     },
     "execution_count": 7,
     "metadata": {},
     "output_type": "execute_result"
    }
   ],
   "source": [
    "df.shape # 10000sample, 14column"
   ]
  },
  {
   "cell_type": "code",
   "execution_count": 8,
   "id": "8f2f31cf-2ba8-4b91-98f6-81bfbda20872",
   "metadata": {},
   "outputs": [
    {
     "name": "stdout",
     "output_type": "stream",
     "text": [
      "<class 'pandas.core.frame.DataFrame'>\n",
      "RangeIndex: 10000 entries, 0 to 9999\n",
      "Data columns (total 14 columns):\n",
      " #   Column         Non-Null Count  Dtype \n",
      "---  ------         --------------  ----- \n",
      " 0   性別             10000 non-null  object\n",
      " 1   年齢             10000 non-null  int64 \n",
      " 2   個人/グループ        10000 non-null  object\n",
      " 3   旅行の目的          10000 non-null  object\n",
      " 4   Wifi設備         10000 non-null  int64 \n",
      " 5   送迎の便利さ         10000 non-null  int64 \n",
      " 6   オンライン予約のしやすさ   10000 non-null  int64 \n",
      " 7   ホテルの立地         10000 non-null  int64 \n",
      " 8   食事の満足度         10000 non-null  int64 \n",
      " 9   滞在時の快適さ        10000 non-null  int64 \n",
      " 10  チェックイン・アウトの接客  10000 non-null  int64 \n",
      " 11  その他のサービス       10000 non-null  int64 \n",
      " 12  清潔さ            10000 non-null  int64 \n",
      " 13  満足度            10000 non-null  int64 \n",
      "dtypes: int64(11), object(3)\n",
      "memory usage: 1.1+ MB\n"
     ]
    }
   ],
   "source": [
    "# データの詳細\n",
    "df.info()"
   ]
  },
  {
   "cell_type": "code",
   "execution_count": 10,
   "id": "8f2484f9-174a-4aae-a23e-c5c5aaf2d8bf",
   "metadata": {},
   "outputs": [
    {
     "data": {
      "text/plain": [
       "性別               0\n",
       "年齢               0\n",
       "個人/グループ          0\n",
       "旅行の目的            0\n",
       "Wifi設備           0\n",
       "送迎の便利さ           0\n",
       "オンライン予約のしやすさ     0\n",
       "ホテルの立地           0\n",
       "食事の満足度           0\n",
       "滞在時の快適さ          0\n",
       "チェックイン・アウトの接客    0\n",
       "その他のサービス         0\n",
       "清潔さ              0\n",
       "満足度              0\n",
       "dtype: int64"
      ]
     },
     "execution_count": 10,
     "metadata": {},
     "output_type": "execute_result"
    }
   ],
   "source": [
    "df.isnull().sum() # 欠損値の確認"
   ]
  },
  {
   "cell_type": "markdown",
   "id": "c9cadb47-630d-4bb4-a4e5-c210f84ba70b",
   "metadata": {},
   "source": [
    "## 変数の集計、可視化"
   ]
  },
  {
   "cell_type": "code",
   "execution_count": 18,
   "id": "2b5660be-e820-4721-ae77-f771f3558a45",
   "metadata": {},
   "outputs": [
    {
     "name": "stdout",
     "output_type": "stream",
     "text": [
      "平均値：3.2019\n",
      "中央値：3.0\n",
      "最頻値：0    3\n",
      "Name: 満足度, dtype: int64\n"
     ]
    }
   ],
   "source": [
    "# 目的変数の平均値、中央値、最頻値\n",
    "print(f\"平均値：{df['満足度'].mean()}\")\n",
    "print(f\"中央値：{df['満足度'].median()}\")\n",
    "print(f\"最頻値：{df['満足度'].mode()}\")"
   ]
  },
  {
   "cell_type": "code",
   "execution_count": 20,
   "id": "298d6b59-400a-42f3-af1d-70ec8a3076eb",
   "metadata": {},
   "outputs": [
    {
     "data": {
      "text/plain": [
       "<AxesSubplot: >"
      ]
     },
     "execution_count": 20,
     "metadata": {},
     "output_type": "execute_result"
    },
    {
     "data": {
      "image/png": "[encoded data removed]",
      "text/plain": [
       "<Figure size 432x288 with 1 Axes>"
      ]
     },
     "metadata": {
      "needs_background": "light"
     },
     "output_type": "display_data"
    }
   ],
   "source": [
    "# ヒストグラム\n",
    "df['満足度'].hist()"
   ]
  },
  {
   "cell_type": "code",
   "execution_count": 21,
   "id": "a8199316-013e-4ec1-8f33-1d614a353b33",
   "metadata": {},
   "outputs": [
    {
     "data": {
      "text/plain": [
       "3    3566\n",
       "4    3349\n",
       "2    1976\n",
       "5     716\n",
       "1     393\n",
       "Name: 満足度, dtype: int64"
      ]
     },
     "execution_count": 21,
     "metadata": {},
     "output_type": "execute_result"
    }
   ],
   "source": [
    "# 集計\n",
    "df['満足度'].value_counts()"
   ]
  },
  {
   "cell_type": "code",
   "execution_count": 28,
   "id": "284d3414-2426-4552-8c2a-c0fa4baf477d",
   "metadata": {},
   "outputs": [],
   "source": [
    "x = df['満足度'].value_counts()"
   ]
  },
  {
   "cell_type": "code",
   "execution_count": 35,
   "id": "71801a5b-58ae-4967-97f0-22f0352ea08e",
   "metadata": {},
   "outputs": [
    {
     "data": {
      "image/png": "[encoded data removed]",
      "text/plain": [
       "<Figure size 432x288 with 1 Axes>"
      ]
     },
     "metadata": {},
     "output_type": "display_data"
    }
   ],
   "source": [
    "plt.title('満足度')\n",
    "plt.pie(x, labels=x.index, autopct='%.1f%%', startangle=90, counterclock=False);"
   ]
  },
  {
   "cell_type": "code",
   "execution_count": 37,
   "id": "c8033255-541e-4625-9361-c208dd196a66",
   "metadata": {},
   "outputs": [
    {
     "data": {
      "image/png": "[encoded data removed]",
      "text/plain": [
       "<Figure size 432x288 with 1 Axes>"
      ]
     },
     "metadata": {},
     "output_type": "display_data"
    }
   ],
   "source": [
    "x = df['性別'].value_counts()\n",
    "plt.title('性別')\n",
    "plt.pie(x, labels=x.index, autopct='%.1f%%', startangle=90);"
   ]
  },
  {
   "cell_type": "code",
   "execution_count": 41,
   "id": "0819120c-8205-4421-9c85-87165a53997d",
   "metadata": {},
   "outputs": [
    {
     "data": {
      "image/png": "[encoded data removed]",
      "text/plain": [
       "<Figure size 432x288 with 1 Axes>"
      ]
     },
     "metadata": {},
     "output_type": "display_data"
    }
   ],
   "source": [
    "x = df['個人/グループ'].value_counts()\n",
    "plt.title('個人/グループ')\n",
    "plt.pie(x, labels=x.index, autopct='%.1f%%', startangle=90, counterclock=False);"
   ]
  },
  {
   "cell_type": "code",
   "execution_count": 39,
   "id": "092aa66e-9f6a-4eed-b191-d71505cdf866",
   "metadata": {},
   "outputs": [
    {
     "data": {
      "image/png": "[encoded data removed]",
      "text/plain": [
       "<Figure size 432x288 with 1 Axes>"
      ]
     },
     "metadata": {},
     "output_type": "display_data"
    }
   ],
   "source": [
    "x = df['旅行の目的'].value_counts()\n",
    "plt.title('旅行の目的')\n",
    "plt.pie(x, labels=x.index, autopct='%.1f%%', startangle=90, counterclock=False);"
   ]
  },
  {
   "cell_type": "code",
   "execution_count": 43,
   "id": "79e437e8-c3f9-4f4c-85dc-9e79e160b0b4",
   "metadata": {},
   "outputs": [
    {
     "data": {
      "text/html": [
       "<div>\n",
       "<style scoped>\n",
       "    .dataframe tbody tr th:only-of-type {\n",
       "        vertical-align: middle;\n",
       "    }\n",
       "\n",
       "    .dataframe tbody tr th {\n",
       "        vertical-align: top;\n",
       "    }\n",
       "\n",
       "    .dataframe thead th {\n",
       "        text-align: right;\n",
       "    }\n",
       "</style>\n",
       "<table border=\"1\" class=\"dataframe\">\n",
       "  <thead>\n",
       "    <tr style=\"text-align: right;\">\n",
       "      <th></th>\n",
       "      <th>年齢</th>\n",
       "      <th>Wifi設備</th>\n",
       "      <th>送迎の便利さ</th>\n",
       "      <th>オンライン予約のしやすさ</th>\n",
       "      <th>ホテルの立地</th>\n",
       "      <th>食事の満足度</th>\n",
       "      <th>滞在時の快適さ</th>\n",
       "      <th>チェックイン・アウトの接客</th>\n",
       "      <th>その他のサービス</th>\n",
       "      <th>清潔さ</th>\n",
       "      <th>満足度</th>\n",
       "    </tr>\n",
       "  </thead>\n",
       "  <tbody>\n",
       "    <tr>\n",
       "      <th>count</th>\n",
       "      <td>10000.000000</td>\n",
       "      <td>10000.000000</td>\n",
       "      <td>10000.000000</td>\n",
       "      <td>10000.000000</td>\n",
       "      <td>10000.000000</td>\n",
       "      <td>10000.00000</td>\n",
       "      <td>10000.000000</td>\n",
       "      <td>10000.000000</td>\n",
       "      <td>10000.000000</td>\n",
       "      <td>10000.000000</td>\n",
       "      <td>10000.000000</td>\n",
       "    </tr>\n",
       "    <tr>\n",
       "      <th>mean</th>\n",
       "      <td>39.486800</td>\n",
       "      <td>2.814000</td>\n",
       "      <td>3.104400</td>\n",
       "      <td>2.841000</td>\n",
       "      <td>2.989100</td>\n",
       "      <td>3.20040</td>\n",
       "      <td>3.438700</td>\n",
       "      <td>3.293900</td>\n",
       "      <td>3.646200</td>\n",
       "      <td>3.281900</td>\n",
       "      <td>3.201900</td>\n",
       "    </tr>\n",
       "    <tr>\n",
       "      <th>std</th>\n",
       "      <td>15.175528</td>\n",
       "      <td>1.248984</td>\n",
       "      <td>1.482404</td>\n",
       "      <td>1.331201</td>\n",
       "      <td>1.274654</td>\n",
       "      <td>1.32658</td>\n",
       "      <td>1.316441</td>\n",
       "      <td>1.261936</td>\n",
       "      <td>1.168829</td>\n",
       "      <td>1.310116</td>\n",
       "      <td>0.967176</td>\n",
       "    </tr>\n",
       "    <tr>\n",
       "      <th>min</th>\n",
       "      <td>7.000000</td>\n",
       "      <td>1.000000</td>\n",
       "      <td>0.000000</td>\n",
       "      <td>0.000000</td>\n",
       "      <td>1.000000</td>\n",
       "      <td>0.00000</td>\n",
       "      <td>1.000000</td>\n",
       "      <td>1.000000</td>\n",
       "      <td>1.000000</td>\n",
       "      <td>0.000000</td>\n",
       "      <td>1.000000</td>\n",
       "    </tr>\n",
       "    <tr>\n",
       "      <th>25%</th>\n",
       "      <td>27.000000</td>\n",
       "      <td>2.000000</td>\n",
       "      <td>2.000000</td>\n",
       "      <td>2.000000</td>\n",
       "      <td>2.000000</td>\n",
       "      <td>2.00000</td>\n",
       "      <td>2.000000</td>\n",
       "      <td>2.000000</td>\n",
       "      <td>3.000000</td>\n",
       "      <td>2.000000</td>\n",
       "      <td>3.000000</td>\n",
       "    </tr>\n",
       "    <tr>\n",
       "      <th>50%</th>\n",
       "      <td>40.000000</td>\n",
       "      <td>3.000000</td>\n",
       "      <td>3.000000</td>\n",
       "      <td>3.000000</td>\n",
       "      <td>3.000000</td>\n",
       "      <td>3.00000</td>\n",
       "      <td>4.000000</td>\n",
       "      <td>3.000000</td>\n",
       "      <td>4.000000</td>\n",
       "      <td>3.000000</td>\n",
       "      <td>3.000000</td>\n",
       "    </tr>\n",
       "    <tr>\n",
       "      <th>75%</th>\n",
       "      <td>51.000000</td>\n",
       "      <td>4.000000</td>\n",
       "      <td>4.000000</td>\n",
       "      <td>4.000000</td>\n",
       "      <td>4.000000</td>\n",
       "      <td>4.00000</td>\n",
       "      <td>5.000000</td>\n",
       "      <td>4.000000</td>\n",
       "      <td>5.000000</td>\n",
       "      <td>4.000000</td>\n",
       "      <td>4.000000</td>\n",
       "    </tr>\n",
       "    <tr>\n",
       "      <th>max</th>\n",
       "      <td>80.000000</td>\n",
       "      <td>5.000000</td>\n",
       "      <td>5.000000</td>\n",
       "      <td>5.000000</td>\n",
       "      <td>5.000000</td>\n",
       "      <td>5.00000</td>\n",
       "      <td>5.000000</td>\n",
       "      <td>5.000000</td>\n",
       "      <td>5.000000</td>\n",
       "      <td>5.000000</td>\n",
       "      <td>5.000000</td>\n",
       "    </tr>\n",
       "  </tbody>\n",
       "</table>\n",
       "</div>"
      ],
      "text/plain": [
       "                 年齢        Wifi設備        送迎の便利さ  オンライン予約のしやすさ        ホテルの立地  \\\n",
       "count  10000.000000  10000.000000  10000.000000  10000.000000  10000.000000   \n",
       "mean      39.486800      2.814000      3.104400      2.841000      2.989100   \n",
       "std       15.175528      1.248984      1.482404      1.331201      1.274654   \n",
       "min        7.000000      1.000000      0.000000      0.000000      1.000000   \n",
       "25%       27.000000      2.000000      2.000000      2.000000      2.000000   \n",
       "50%       40.000000      3.000000      3.000000      3.000000      3.000000   \n",
       "75%       51.000000      4.000000      4.000000      4.000000      4.000000   \n",
       "max       80.000000      5.000000      5.000000      5.000000      5.000000   \n",
       "\n",
       "            食事の満足度       滞在時の快適さ  チェックイン・アウトの接客      その他のサービス           清潔さ  \\\n",
       "count  10000.00000  10000.000000   10000.000000  10000.000000  10000.000000   \n",
       "mean       3.20040      3.438700       3.293900      3.646200      3.281900   \n",
       "std        1.32658      1.316441       1.261936      1.168829      1.310116   \n",
       "min        0.00000      1.000000       1.000000      1.000000      0.000000   \n",
       "25%        2.00000      2.000000       2.000000      3.000000      2.000000   \n",
       "50%        3.00000      4.000000       3.000000      4.000000      3.000000   \n",
       "75%        4.00000      5.000000       4.000000      5.000000      4.000000   \n",
       "max        5.00000      5.000000       5.000000      5.000000      5.000000   \n",
       "\n",
       "                満足度  \n",
       "count  10000.000000  \n",
       "mean       3.201900  \n",
       "std        0.967176  \n",
       "min        1.000000  \n",
       "25%        3.000000  \n",
       "50%        3.000000  \n",
       "75%        4.000000  \n",
       "max        5.000000  "
      ]
     },
     "execution_count": 43,
     "metadata": {},
     "output_type": "execute_result"
    }
   ],
   "source": [
    "df.describe()"
   ]
  },
  {
   "cell_type": "code",
   "execution_count": 48,
   "id": "71ee6856-d6a0-4eda-b26d-df0d508a4494",
   "metadata": {},
   "outputs": [
    {
     "data": {
      "image/png": "[encoded data removed]",
      "text/plain": [
       "<Figure size 432x288 with 12 Axes>"
      ]
     },
     "metadata": {
      "needs_background": "light"
     },
     "output_type": "display_data"
    }
   ],
   "source": [
    "df.hist();\n",
    "plt.tight_layout()"
   ]
  },
  {
   "cell_type": "markdown",
   "id": "805e9575-efc8-4db2-85f1-30d7256cb295",
   "metadata": {},
   "source": [
    "### 変数の関連性の集計、可視化"
   ]
  },
  {
   "cell_type": "code",
   "execution_count": 51,
   "id": "eba6d854-625e-4b2d-9278-8c5a94edec6a",
   "metadata": {},
   "outputs": [
    {
     "data": {
      "text/html": [
       "<div>\n",
       "<style scoped>\n",
       "    .dataframe tbody tr th:only-of-type {\n",
       "        vertical-align: middle;\n",
       "    }\n",
       "\n",
       "    .dataframe tbody tr th {\n",
       "        vertical-align: top;\n",
       "    }\n",
       "\n",
       "    .dataframe thead th {\n",
       "        text-align: right;\n",
       "    }\n",
       "</style>\n",
       "<table border=\"1\" class=\"dataframe\">\n",
       "  <thead>\n",
       "    <tr style=\"text-align: right;\">\n",
       "      <th>性別</th>\n",
       "      <th>女性</th>\n",
       "      <th>男性</th>\n",
       "    </tr>\n",
       "    <tr>\n",
       "      <th>満足度</th>\n",
       "      <th></th>\n",
       "      <th></th>\n",
       "    </tr>\n",
       "  </thead>\n",
       "  <tbody>\n",
       "    <tr>\n",
       "      <th>1</th>\n",
       "      <td>157</td>\n",
       "      <td>236</td>\n",
       "    </tr>\n",
       "    <tr>\n",
       "      <th>2</th>\n",
       "      <td>959</td>\n",
       "      <td>1017</td>\n",
       "    </tr>\n",
       "    <tr>\n",
       "      <th>3</th>\n",
       "      <td>1880</td>\n",
       "      <td>1686</td>\n",
       "    </tr>\n",
       "    <tr>\n",
       "      <th>4</th>\n",
       "      <td>1692</td>\n",
       "      <td>1657</td>\n",
       "    </tr>\n",
       "    <tr>\n",
       "      <th>5</th>\n",
       "      <td>343</td>\n",
       "      <td>373</td>\n",
       "    </tr>\n",
       "  </tbody>\n",
       "</table>\n",
       "</div>"
      ],
      "text/plain": [
       "性別     女性    男性\n",
       "満足度            \n",
       "1     157   236\n",
       "2     959  1017\n",
       "3    1880  1686\n",
       "4    1692  1657\n",
       "5     343   373"
      ]
     },
     "execution_count": 51,
     "metadata": {},
     "output_type": "execute_result"
    }
   ],
   "source": [
    "pd.crosstab(df['満足度'], df['性別'])"
   ]
  },
  {
   "cell_type": "code",
   "execution_count": 53,
   "id": "3f124130-9c61-4568-afe6-aecc61d7c20e",
   "metadata": {},
   "outputs": [
    {
     "data": {
      "text/plain": [
       "<AxesSubplot: xlabel='満足度', ylabel='count'>"
      ]
     },
     "execution_count": 53,
     "metadata": {},
     "output_type": "execute_result"
    },
    {
     "data": {
      "image/png": "[encoded data removed]",
      "text/plain": [
       "<Figure size 432x288 with 1 Axes>"
      ]
     },
     "metadata": {
      "needs_background": "light"
     },
     "output_type": "display_data"
    }
   ],
   "source": [
    "sns.countplot(x='満足度', hue='性別', data=df)"
   ]
  },
  {
   "cell_type": "code",
   "execution_count": 54,
   "id": "0e42cd9c-9b75-4711-ada6-8163e38e681d",
   "metadata": {},
   "outputs": [
    {
     "data": {
      "text/plain": [
       "<AxesSubplot: xlabel='満足度', ylabel='count'>"
      ]
     },
     "execution_count": 54,
     "metadata": {},
     "output_type": "execute_result"
    },
    {
     "data": {
      "image/png": "[encoded data removed]",
      "text/plain": [
       "<Figure size 432x288 with 1 Axes>"
      ]
     },
     "metadata": {
      "needs_background": "light"
     },
     "output_type": "display_data"
    }
   ],
   "source": [
    "sns.countplot(x='満足度', hue='個人/グループ', data=df)"
   ]
  },
  {
   "cell_type": "code",
   "execution_count": 55,
   "id": "e1d5da7a-5b15-40bc-b20f-d1c5ae687742",
   "metadata": {},
   "outputs": [
    {
     "data": {
      "text/plain": [
       "<AxesSubplot: xlabel='満足度', ylabel='count'>"
      ]
     },
     "execution_count": 55,
     "metadata": {},
     "output_type": "execute_result"
    },
    {
     "data": {
      "image/png": "[encoded data removed]",
      "text/plain": [
       "<Figure size 432x288 with 1 Axes>"
      ]
     },
     "metadata": {
      "needs_background": "light"
     },
     "output_type": "display_data"
    }
   ],
   "source": [
    "sns.countplot(x='満足度', hue='旅行の目的', data=df)"
   ]
  },
  {
   "cell_type": "code",
   "execution_count": null,
   "id": "c6ca390b-4ff6-416f-b1a2-e94d9ec27666",
   "metadata": {},
   "outputs": [],
   "source": []
  }
 ],
 "metadata": {
  "kernelspec": {
   "display_name": "default:Python",
   "language": "python",
   "name": "conda-env-default-py"
  },
  "language_info": {
   "codemirror_mode": {
    "name": "ipython",
    "version": 3
   },
   "file_extension": ".py",
   "mimetype": "text/x-python",
   "name": "python",
   "nbconvert_exporter": "python",
   "pygments_lexer": "ipython3",
   "version": "3.9.12"
  }
 },
 "nbformat": 4,
 "nbformat_minor": 5
}
