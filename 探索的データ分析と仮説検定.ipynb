{
 "cells": [
  {
   "cell_type": "code",
   "execution_count": 1,
   "id": "713d6f4f-83b9-42bb-8550-6d970a7a16be",
   "metadata": {},
   "outputs": [],
   "source": [
    "!pip install -q japanize_matplotlib"
   ]
  },
  {
   "cell_type": "markdown",
   "id": "e85c36c4-e91c-42e1-8749-c59398ece65d",
   "metadata": {},
   "source": [
    "- 1.集計・可視化（探索的データ分析）\n",
    "- 2.仮説立て\n",
    "- 3.仮説が正しいか検証（確証的データ分析）"
   ]
  },
  {
   "cell_type": "code",
   "execution_count": 2,
   "id": "a2271ec1-50da-49b3-89d2-287ebc1c6269",
   "metadata": {},
   "outputs": [],
   "source": [
    "import numpy as np\n",
    "import pandas as pd\n",
    "import matplotlib.pyplot as plt\n",
    "import seaborn as sns\n",
    "\n",
    "from scipy import stats\n",
    "import japanize_matplotlib\n",
    "import warnings\n",
    "warnings.filterwarnings('ignore')\n",
    "\n",
    "%matplotlib inline\n",
    "plt.style.use('bmh')\n",
    "\n",
    "plt.rcParams['figure.figsize'] = 10, 6"
   ]
  },
  {
   "cell_type": "code",
   "execution_count": 3,
   "id": "e4fd7713-6fe5-44f6-9d1b-2fa08d9cfe9a",
   "metadata": {},
   "outputs": [
    {
     "data": {
      "text/html": [
       "<div>\n",
       "<style scoped>\n",
       "    .dataframe tbody tr th:only-of-type {\n",
       "        vertical-align: middle;\n",
       "    }\n",
       "\n",
       "    .dataframe tbody tr th {\n",
       "        vertical-align: top;\n",
       "    }\n",
       "\n",
       "    .dataframe thead th {\n",
       "        text-align: right;\n",
       "    }\n",
       "</style>\n",
       "<table border=\"1\" class=\"dataframe\">\n",
       "  <thead>\n",
       "    <tr style=\"text-align: right;\">\n",
       "      <th></th>\n",
       "      <th>性別</th>\n",
       "      <th>年齢</th>\n",
       "      <th>個人/グループ</th>\n",
       "      <th>旅行の目的</th>\n",
       "      <th>Wifi設備</th>\n",
       "      <th>送迎の便利さ</th>\n",
       "      <th>オンライン予約のしやすさ</th>\n",
       "      <th>ホテルの立地</th>\n",
       "      <th>食事の満足度</th>\n",
       "      <th>滞在時の快適さ</th>\n",
       "      <th>チェックイン・アウトの接客</th>\n",
       "      <th>その他のサービス</th>\n",
       "      <th>清潔さ</th>\n",
       "      <th>満足度</th>\n",
       "    </tr>\n",
       "  </thead>\n",
       "  <tbody>\n",
       "    <tr>\n",
       "      <th>0</th>\n",
       "      <td>女性</td>\n",
       "      <td>50</td>\n",
       "      <td>グループ</td>\n",
       "      <td>学生</td>\n",
       "      <td>4</td>\n",
       "      <td>4</td>\n",
       "      <td>4</td>\n",
       "      <td>4</td>\n",
       "      <td>3</td>\n",
       "      <td>4</td>\n",
       "      <td>4</td>\n",
       "      <td>4</td>\n",
       "      <td>4</td>\n",
       "      <td>4</td>\n",
       "    </tr>\n",
       "    <tr>\n",
       "      <th>1</th>\n",
       "      <td>女性</td>\n",
       "      <td>35</td>\n",
       "      <td>個人</td>\n",
       "      <td>ビジネス</td>\n",
       "      <td>4</td>\n",
       "      <td>5</td>\n",
       "      <td>4</td>\n",
       "      <td>4</td>\n",
       "      <td>1</td>\n",
       "      <td>1</td>\n",
       "      <td>5</td>\n",
       "      <td>4</td>\n",
       "      <td>1</td>\n",
       "      <td>2</td>\n",
       "    </tr>\n",
       "    <tr>\n",
       "      <th>2</th>\n",
       "      <td>女性</td>\n",
       "      <td>22</td>\n",
       "      <td>グループ</td>\n",
       "      <td>その他</td>\n",
       "      <td>1</td>\n",
       "      <td>1</td>\n",
       "      <td>1</td>\n",
       "      <td>4</td>\n",
       "      <td>1</td>\n",
       "      <td>5</td>\n",
       "      <td>1</td>\n",
       "      <td>3</td>\n",
       "      <td>1</td>\n",
       "      <td>3</td>\n",
       "    </tr>\n",
       "    <tr>\n",
       "      <th>3</th>\n",
       "      <td>男性</td>\n",
       "      <td>30</td>\n",
       "      <td>個人</td>\n",
       "      <td>航空関係</td>\n",
       "      <td>3</td>\n",
       "      <td>4</td>\n",
       "      <td>3</td>\n",
       "      <td>4</td>\n",
       "      <td>5</td>\n",
       "      <td>1</td>\n",
       "      <td>4</td>\n",
       "      <td>4</td>\n",
       "      <td>5</td>\n",
       "      <td>3</td>\n",
       "    </tr>\n",
       "    <tr>\n",
       "      <th>4</th>\n",
       "      <td>男性</td>\n",
       "      <td>59</td>\n",
       "      <td>グループ</td>\n",
       "      <td>航空関係</td>\n",
       "      <td>4</td>\n",
       "      <td>3</td>\n",
       "      <td>3</td>\n",
       "      <td>3</td>\n",
       "      <td>4</td>\n",
       "      <td>4</td>\n",
       "      <td>3</td>\n",
       "      <td>5</td>\n",
       "      <td>4</td>\n",
       "      <td>4</td>\n",
       "    </tr>\n",
       "  </tbody>\n",
       "</table>\n",
       "</div>"
      ],
      "text/plain": [
       "   性別  年齢 個人/グループ 旅行の目的  Wifi設備  送迎の便利さ  オンライン予約のしやすさ  ホテルの立地  食事の満足度  \\\n",
       "0  女性  50    グループ    学生       4       4             4       4       3   \n",
       "1  女性  35      個人  ビジネス       4       5             4       4       1   \n",
       "2  女性  22    グループ   その他       1       1             1       4       1   \n",
       "3  男性  30      個人  航空関係       3       4             3       4       5   \n",
       "4  男性  59    グループ  航空関係       4       3             3       3       4   \n",
       "\n",
       "   滞在時の快適さ  チェックイン・アウトの接客  その他のサービス  清潔さ  満足度  \n",
       "0        4              4         4    4    4  \n",
       "1        1              5         4    1    2  \n",
       "2        5              1         3    1    3  \n",
       "3        1              4         4    5    3  \n",
       "4        4              3         5    4    4  "
      ]
     },
     "execution_count": 3,
     "metadata": {},
     "output_type": "execute_result"
    }
   ],
   "source": [
    "df = pd.read_csv('hotel_reviews.csv')\n",
    "df.head()"
   ]
  },
  {
   "cell_type": "markdown",
   "id": "ce3735ec-8464-4844-93d0-740f45bdeb7c",
   "metadata": {},
   "source": [
    "### 集計・可視化"
   ]
  },
  {
   "cell_type": "code",
   "execution_count": 5,
   "id": "18e40fc5-7de0-4989-9006-34dbeeae946b",
   "metadata": {},
   "outputs": [
    {
     "data": {
      "image/png": "[encoded data removed]",
      "text/plain": [
       "<Figure size 720x432 with 1 Axes>"
      ]
     },
     "metadata": {
      "needs_background": "light"
     },
     "output_type": "display_data"
    }
   ],
   "source": [
    "sns.countplot(x='満足度', hue='性別', data=df);"
   ]
  },
  {
   "cell_type": "code",
   "execution_count": 7,
   "id": "c25e5fbf-b862-4a4b-b417-3d83de9c845c",
   "metadata": {},
   "outputs": [
    {
     "data": {
      "text/html": [
       "<div>\n",
       "<style scoped>\n",
       "    .dataframe tbody tr th:only-of-type {\n",
       "        vertical-align: middle;\n",
       "    }\n",
       "\n",
       "    .dataframe tbody tr th {\n",
       "        vertical-align: top;\n",
       "    }\n",
       "\n",
       "    .dataframe thead th {\n",
       "        text-align: right;\n",
       "    }\n",
       "</style>\n",
       "<table border=\"1\" class=\"dataframe\">\n",
       "  <thead>\n",
       "    <tr style=\"text-align: right;\">\n",
       "      <th></th>\n",
       "      <th>mean</th>\n",
       "      <th>median</th>\n",
       "    </tr>\n",
       "    <tr>\n",
       "      <th>性別</th>\n",
       "      <th></th>\n",
       "      <th></th>\n",
       "    </tr>\n",
       "  </thead>\n",
       "  <tbody>\n",
       "    <tr>\n",
       "      <th>女性</th>\n",
       "      <td>3.219638</td>\n",
       "      <td>3.0</td>\n",
       "    </tr>\n",
       "    <tr>\n",
       "      <th>男性</th>\n",
       "      <td>3.183940</td>\n",
       "      <td>3.0</td>\n",
       "    </tr>\n",
       "  </tbody>\n",
       "</table>\n",
       "</div>"
      ],
      "text/plain": [
       "        mean  median\n",
       "性別                  \n",
       "女性  3.219638     3.0\n",
       "男性  3.183940     3.0"
      ]
     },
     "execution_count": 7,
     "metadata": {},
     "output_type": "execute_result"
    }
   ],
   "source": [
    "# 代表値の確認\n",
    "group = df.groupby('性別')\n",
    "group['満足度'].agg(['mean', 'median'])"
   ]
  },
  {
   "cell_type": "markdown",
   "id": "09006952-6159-4069-923d-a9c7a5806c39",
   "metadata": {},
   "source": [
    "### 仮説立て\n",
    "   - 性別によって満足度の差がある"
   ]
  },
  {
   "cell_type": "markdown",
   "id": "c4e20463-2a2a-4ce5-ba19-61a648ae0301",
   "metadata": {},
   "source": [
    "### 仮説が正しいか検証"
   ]
  },
  {
   "cell_type": "code",
   "execution_count": 11,
   "id": "7315ce5c-1bcf-4c05-87f0-c8fa07828cd7",
   "metadata": {},
   "outputs": [],
   "source": [
    "mens = group.get_group('男性')\n",
    "womens = group.get_group('女性')"
   ]
  },
  {
   "cell_type": "code",
   "execution_count": 12,
   "id": "ea148f3d-3c01-4792-99f9-d3fe3522139b",
   "metadata": {},
   "outputs": [
    {
     "data": {
      "image/png": "[encoded data removed]",
      "text/plain": [
       "<Figure size 720x432 with 2 Axes>"
      ]
     },
     "metadata": {
      "needs_background": "light"
     },
     "output_type": "display_data"
    }
   ],
   "source": [
    "# 正規性の確認\n",
    "plt.subplot(1, 2, 1)\n",
    "sns.distplot(group1['満足度'])\n",
    "plt.subplot(1, 2, 2)\n",
    "sns.distplot(group2['満足度'])\n",
    "plt.tight_layout()"
   ]
  },
  {
   "cell_type": "code",
   "execution_count": 16,
   "id": "969ee319-e1fd-45bb-9058-3430e2335c00",
   "metadata": {},
   "outputs": [
    {
     "data": {
      "text/plain": [
       "KstestResult(statistic=0.9297554023645598, pvalue=0.0)"
      ]
     },
     "execution_count": 16,
     "metadata": {},
     "output_type": "execute_result"
    }
   ],
   "source": [
    "# コルモゴロフ・スミルノフ検定\n",
    "stats.kstest(mens['満足度'],\"norm\") # 正規分布ではない"
   ]
  },
  {
   "cell_type": "code",
   "execution_count": 17,
   "id": "8d443a91-a3e3-4142-b493-4e8ec9ec68bc",
   "metadata": {},
   "outputs": [
    {
     "data": {
      "text/plain": [
       "KstestResult(statistic=0.9460433484732081, pvalue=0.0)"
      ]
     },
     "execution_count": 17,
     "metadata": {},
     "output_type": "execute_result"
    }
   ],
   "source": [
    "stats.kstest(womens['満足度'],\"norm\") # 正規分布ではない"
   ]
  },
  {
   "cell_type": "markdown",
   "id": "73cc2076-7e15-4126-941b-8527d8c11165",
   "metadata": {},
   "source": [
    "- 仮説を立てる\n",
    "   - 帰無仮説: 2 群間の平均値に差がない\n",
    "   - 対立仮説: 2 群間の平均値に差がある\n",
    "- 有意水準\n",
    "   - 5%\n",
    "- p値"
   ]
  },
  {
   "cell_type": "code",
   "execution_count": 18,
   "id": "841f44dc-081f-464b-a904-45676ad84e1a",
   "metadata": {},
   "outputs": [
    {
     "data": {
      "text/plain": [
       "MannwhitneyuResult(statistic=12311050.0, pvalue=0.1708277786931579)"
      ]
     },
     "execution_count": 18,
     "metadata": {},
     "output_type": "execute_result"
    }
   ],
   "source": [
    "stats.mannwhitneyu(group1['満足度'], group2['満足度'], alternative='two-sided')"
   ]
  },
  {
   "cell_type": "markdown",
   "id": "575fca59-77c9-4123-9683-921cc9249c57",
   "metadata": {},
   "source": [
    "Wifi 設備と満足度について確認"
   ]
  },
  {
   "cell_type": "markdown",
   "id": "2badb371-0f32-4010-a13d-e5cc7675731e",
   "metadata": {},
   "source": [
    "- 1.集計・可視化（探索的データ分析）\n",
    "- 2.仮説立て\n",
    "- 3.仮説が正しいか検証（確証的データ分析）"
   ]
  },
  {
   "cell_type": "code",
   "execution_count": 20,
   "id": "64611430-52f8-4b59-a072-1c8300ce5cd4",
   "metadata": {},
   "outputs": [
    {
     "data": {
      "image/png": "[encoded data removed]",
      "text/plain": [
       "<Figure size 720x432 with 1 Axes>"
      ]
     },
     "metadata": {
      "needs_background": "light"
     },
     "output_type": "display_data"
    }
   ],
   "source": [
    "sns.countplot(x='満足度', hue='Wifi設備', data=df);"
   ]
  },
  {
   "cell_type": "code",
   "execution_count": 21,
   "id": "46a0194d-1bcc-47bd-b33b-a28183e96288",
   "metadata": {},
   "outputs": [
    {
     "data": {
      "text/html": [
       "<div>\n",
       "<style scoped>\n",
       "    .dataframe tbody tr th:only-of-type {\n",
       "        vertical-align: middle;\n",
       "    }\n",
       "\n",
       "    .dataframe tbody tr th {\n",
       "        vertical-align: top;\n",
       "    }\n",
       "\n",
       "    .dataframe thead th {\n",
       "        text-align: right;\n",
       "    }\n",
       "</style>\n",
       "<table border=\"1\" class=\"dataframe\">\n",
       "  <thead>\n",
       "    <tr style=\"text-align: right;\">\n",
       "      <th></th>\n",
       "      <th>mean</th>\n",
       "      <th>median</th>\n",
       "    </tr>\n",
       "    <tr>\n",
       "      <th>Wifi設備</th>\n",
       "      <th></th>\n",
       "      <th></th>\n",
       "    </tr>\n",
       "  </thead>\n",
       "  <tbody>\n",
       "    <tr>\n",
       "      <th>1</th>\n",
       "      <td>2.476461</td>\n",
       "      <td>3.0</td>\n",
       "    </tr>\n",
       "    <tr>\n",
       "      <th>2</th>\n",
       "      <td>2.807234</td>\n",
       "      <td>3.0</td>\n",
       "    </tr>\n",
       "    <tr>\n",
       "      <th>3</th>\n",
       "      <td>3.221168</td>\n",
       "      <td>3.0</td>\n",
       "    </tr>\n",
       "    <tr>\n",
       "      <th>4</th>\n",
       "      <td>3.727364</td>\n",
       "      <td>4.0</td>\n",
       "    </tr>\n",
       "    <tr>\n",
       "      <th>5</th>\n",
       "      <td>4.274385</td>\n",
       "      <td>4.0</td>\n",
       "    </tr>\n",
       "  </tbody>\n",
       "</table>\n",
       "</div>"
      ],
      "text/plain": [
       "            mean  median\n",
       "Wifi設備                  \n",
       "1       2.476461     3.0\n",
       "2       2.807234     3.0\n",
       "3       3.221168     3.0\n",
       "4       3.727364     4.0\n",
       "5       4.274385     4.0"
      ]
     },
     "execution_count": 21,
     "metadata": {},
     "output_type": "execute_result"
    }
   ],
   "source": [
    "# WiFi設備の評価ごとの満足度の代表値\n",
    "group = df.groupby('Wifi設備')\n",
    "group['満足度'].agg(['mean', 'median'])"
   ]
  },
  {
   "cell_type": "markdown",
   "id": "d07be8e1-b301-4e6e-9958-ccd71c736c1b",
   "metadata": {},
   "source": [
    "### 仮説立て\n",
    "   - Wifi 設備と満足度は独立でなく何らかの関係性を持っている"
   ]
  },
  {
   "cell_type": "markdown",
   "id": "cd6a3f3a-5551-47ca-9187-751ee5ae4bd3",
   "metadata": {},
   "source": [
    "### 仮説が正しいか検証\n",
    "- χ二乗検定\n",
    "   - 帰無仮説：2群間は独立\n",
    "   - 対立仮説：2群間は独立ではない（何らかの関連性を持っている）"
   ]
  },
  {
   "cell_type": "code",
   "execution_count": 23,
   "id": "5046eebc-1283-4da1-94bd-ec426dc1b6a8",
   "metadata": {},
   "outputs": [
    {
     "data": {
      "text/html": [
       "<div>\n",
       "<style scoped>\n",
       "    .dataframe tbody tr th:only-of-type {\n",
       "        vertical-align: middle;\n",
       "    }\n",
       "\n",
       "    .dataframe tbody tr th {\n",
       "        vertical-align: top;\n",
       "    }\n",
       "\n",
       "    .dataframe thead th {\n",
       "        text-align: right;\n",
       "    }\n",
       "</style>\n",
       "<table border=\"1\" class=\"dataframe\">\n",
       "  <thead>\n",
       "    <tr style=\"text-align: right;\">\n",
       "      <th>Wifi設備</th>\n",
       "      <th>1</th>\n",
       "      <th>2</th>\n",
       "      <th>3</th>\n",
       "      <th>4</th>\n",
       "      <th>5</th>\n",
       "    </tr>\n",
       "    <tr>\n",
       "      <th>満足度</th>\n",
       "      <th></th>\n",
       "      <th></th>\n",
       "      <th></th>\n",
       "      <th></th>\n",
       "      <th></th>\n",
       "    </tr>\n",
       "  </thead>\n",
       "  <tbody>\n",
       "    <tr>\n",
       "      <th>1</th>\n",
       "      <td>289</td>\n",
       "      <td>96</td>\n",
       "      <td>8</td>\n",
       "      <td>0</td>\n",
       "      <td>0</td>\n",
       "    </tr>\n",
       "    <tr>\n",
       "      <th>2</th>\n",
       "      <td>535</td>\n",
       "      <td>835</td>\n",
       "      <td>439</td>\n",
       "      <td>155</td>\n",
       "      <td>12</td>\n",
       "    </tr>\n",
       "    <tr>\n",
       "      <th>3</th>\n",
       "      <td>749</td>\n",
       "      <td>1043</td>\n",
       "      <td>1152</td>\n",
       "      <td>458</td>\n",
       "      <td>164</td>\n",
       "    </tr>\n",
       "    <tr>\n",
       "      <th>4</th>\n",
       "      <td>190</td>\n",
       "      <td>542</td>\n",
       "      <td>1036</td>\n",
       "      <td>1149</td>\n",
       "      <td>432</td>\n",
       "    </tr>\n",
       "    <tr>\n",
       "      <th>5</th>\n",
       "      <td>0</td>\n",
       "      <td>0</td>\n",
       "      <td>1</td>\n",
       "      <td>226</td>\n",
       "      <td>489</td>\n",
       "    </tr>\n",
       "  </tbody>\n",
       "</table>\n",
       "</div>"
      ],
      "text/plain": [
       "Wifi設備    1     2     3     4    5\n",
       "満足度                               \n",
       "1       289    96     8     0    0\n",
       "2       535   835   439   155   12\n",
       "3       749  1043  1152   458  164\n",
       "4       190   542  1036  1149  432\n",
       "5         0     0     1   226  489"
      ]
     },
     "execution_count": 23,
     "metadata": {},
     "output_type": "execute_result"
    }
   ],
   "source": [
    "crosstab = pd.crosstab(df['満足度'], df['Wifi設備'])\n",
    "crosstab"
   ]
  },
  {
   "cell_type": "code",
   "execution_count": 24,
   "id": "003b7fd5-b887-4295-9748-7d004d04e44e",
   "metadata": {},
   "outputs": [
    {
     "name": "stdout",
     "output_type": "stream",
     "text": [
      "χ 二乗値:5356.10247526457\n",
      "p 値:0.0\n",
      "自由度:16\n"
     ]
    }
   ],
   "source": [
    "chi2, p, dof, ef = stats.chi2_contingency(crosstab, correction=False)\n",
    "print(f'χ 二乗値:{chi2}')\n",
    "print(f'p 値:{p}')\n",
    "print(f'自由度:{dof}')"
   ]
  },
  {
   "cell_type": "code",
   "execution_count": 25,
   "id": "43d74390-54e2-4ff1-9eed-19d3299642f0",
   "metadata": {},
   "outputs": [
    {
     "data": {
      "text/html": [
       "<div>\n",
       "<style scoped>\n",
       "    .dataframe tbody tr th:only-of-type {\n",
       "        vertical-align: middle;\n",
       "    }\n",
       "\n",
       "    .dataframe tbody tr th {\n",
       "        vertical-align: top;\n",
       "    }\n",
       "\n",
       "    .dataframe thead th {\n",
       "        text-align: right;\n",
       "    }\n",
       "</style>\n",
       "<table border=\"1\" class=\"dataframe\">\n",
       "  <thead>\n",
       "    <tr style=\"text-align: right;\">\n",
       "      <th></th>\n",
       "      <th>性別</th>\n",
       "      <th>年齢</th>\n",
       "      <th>個人/グループ</th>\n",
       "      <th>旅行の目的</th>\n",
       "      <th>Wifi設備</th>\n",
       "      <th>送迎の便利さ</th>\n",
       "      <th>オンライン予約のしやすさ</th>\n",
       "      <th>ホテルの立地</th>\n",
       "      <th>食事の満足度</th>\n",
       "      <th>滞在時の快適さ</th>\n",
       "      <th>チェックイン・アウトの接客</th>\n",
       "      <th>その他のサービス</th>\n",
       "      <th>清潔さ</th>\n",
       "      <th>満足度</th>\n",
       "    </tr>\n",
       "  </thead>\n",
       "  <tbody>\n",
       "    <tr>\n",
       "      <th>2</th>\n",
       "      <td>女性</td>\n",
       "      <td>22</td>\n",
       "      <td>グループ</td>\n",
       "      <td>その他</td>\n",
       "      <td>1</td>\n",
       "      <td>1</td>\n",
       "      <td>1</td>\n",
       "      <td>4</td>\n",
       "      <td>1</td>\n",
       "      <td>5</td>\n",
       "      <td>1</td>\n",
       "      <td>3</td>\n",
       "      <td>1</td>\n",
       "      <td>3</td>\n",
       "    </tr>\n",
       "    <tr>\n",
       "      <th>3</th>\n",
       "      <td>男性</td>\n",
       "      <td>30</td>\n",
       "      <td>個人</td>\n",
       "      <td>航空関係</td>\n",
       "      <td>3</td>\n",
       "      <td>4</td>\n",
       "      <td>3</td>\n",
       "      <td>4</td>\n",
       "      <td>5</td>\n",
       "      <td>1</td>\n",
       "      <td>4</td>\n",
       "      <td>4</td>\n",
       "      <td>5</td>\n",
       "      <td>3</td>\n",
       "    </tr>\n",
       "    <tr>\n",
       "      <th>5</th>\n",
       "      <td>男性</td>\n",
       "      <td>52</td>\n",
       "      <td>グループ</td>\n",
       "      <td>学生</td>\n",
       "      <td>2</td>\n",
       "      <td>3</td>\n",
       "      <td>3</td>\n",
       "      <td>3</td>\n",
       "      <td>2</td>\n",
       "      <td>2</td>\n",
       "      <td>1</td>\n",
       "      <td>3</td>\n",
       "      <td>2</td>\n",
       "      <td>2</td>\n",
       "    </tr>\n",
       "  </tbody>\n",
       "</table>\n",
       "</div>"
      ],
      "text/plain": [
       "   性別  年齢 個人/グループ 旅行の目的  Wifi設備  送迎の便利さ  オンライン予約のしやすさ  ホテルの立地  食事の満足度  \\\n",
       "2  女性  22    グループ   その他       1       1             1       4       1   \n",
       "3  男性  30      個人  航空関係       3       4             3       4       5   \n",
       "5  男性  52    グループ    学生       2       3             3       3       2   \n",
       "\n",
       "   滞在時の快適さ  チェックイン・アウトの接客  その他のサービス  清潔さ  満足度  \n",
       "2        5              1         3    1    3  \n",
       "3        1              4         4    5    3  \n",
       "5        2              1         3    2    2  "
      ]
     },
     "execution_count": 25,
     "metadata": {},
     "output_type": "execute_result"
    }
   ],
   "source": [
    "satis_0 = df.query('Wifi設備<=3')\n",
    "satis_0.head(3)"
   ]
  },
  {
   "cell_type": "code",
   "execution_count": 26,
   "id": "240f63a9-495e-40a8-920e-bb7f34fc556b",
   "metadata": {},
   "outputs": [
    {
     "data": {
      "text/html": [
       "<div>\n",
       "<style scoped>\n",
       "    .dataframe tbody tr th:only-of-type {\n",
       "        vertical-align: middle;\n",
       "    }\n",
       "\n",
       "    .dataframe tbody tr th {\n",
       "        vertical-align: top;\n",
       "    }\n",
       "\n",
       "    .dataframe thead th {\n",
       "        text-align: right;\n",
       "    }\n",
       "</style>\n",
       "<table border=\"1\" class=\"dataframe\">\n",
       "  <thead>\n",
       "    <tr style=\"text-align: right;\">\n",
       "      <th></th>\n",
       "      <th>性別</th>\n",
       "      <th>年齢</th>\n",
       "      <th>個人/グループ</th>\n",
       "      <th>旅行の目的</th>\n",
       "      <th>Wifi設備</th>\n",
       "      <th>送迎の便利さ</th>\n",
       "      <th>オンライン予約のしやすさ</th>\n",
       "      <th>ホテルの立地</th>\n",
       "      <th>食事の満足度</th>\n",
       "      <th>滞在時の快適さ</th>\n",
       "      <th>チェックイン・アウトの接客</th>\n",
       "      <th>その他のサービス</th>\n",
       "      <th>清潔さ</th>\n",
       "      <th>満足度</th>\n",
       "    </tr>\n",
       "  </thead>\n",
       "  <tbody>\n",
       "    <tr>\n",
       "      <th>0</th>\n",
       "      <td>女性</td>\n",
       "      <td>50</td>\n",
       "      <td>グループ</td>\n",
       "      <td>学生</td>\n",
       "      <td>4</td>\n",
       "      <td>4</td>\n",
       "      <td>4</td>\n",
       "      <td>4</td>\n",
       "      <td>3</td>\n",
       "      <td>4</td>\n",
       "      <td>4</td>\n",
       "      <td>4</td>\n",
       "      <td>4</td>\n",
       "      <td>4</td>\n",
       "    </tr>\n",
       "    <tr>\n",
       "      <th>1</th>\n",
       "      <td>女性</td>\n",
       "      <td>35</td>\n",
       "      <td>個人</td>\n",
       "      <td>ビジネス</td>\n",
       "      <td>4</td>\n",
       "      <td>5</td>\n",
       "      <td>4</td>\n",
       "      <td>4</td>\n",
       "      <td>1</td>\n",
       "      <td>1</td>\n",
       "      <td>5</td>\n",
       "      <td>4</td>\n",
       "      <td>1</td>\n",
       "      <td>2</td>\n",
       "    </tr>\n",
       "    <tr>\n",
       "      <th>4</th>\n",
       "      <td>男性</td>\n",
       "      <td>59</td>\n",
       "      <td>グループ</td>\n",
       "      <td>航空関係</td>\n",
       "      <td>4</td>\n",
       "      <td>3</td>\n",
       "      <td>3</td>\n",
       "      <td>3</td>\n",
       "      <td>4</td>\n",
       "      <td>4</td>\n",
       "      <td>3</td>\n",
       "      <td>5</td>\n",
       "      <td>4</td>\n",
       "      <td>4</td>\n",
       "    </tr>\n",
       "  </tbody>\n",
       "</table>\n",
       "</div>"
      ],
      "text/plain": [
       "   性別  年齢 個人/グループ 旅行の目的  Wifi設備  送迎の便利さ  オンライン予約のしやすさ  ホテルの立地  食事の満足度  \\\n",
       "0  女性  50    グループ    学生       4       4             4       4       3   \n",
       "1  女性  35      個人  ビジネス       4       5             4       4       1   \n",
       "4  男性  59    グループ  航空関係       4       3             3       3       4   \n",
       "\n",
       "   滞在時の快適さ  チェックイン・アウトの接客  その他のサービス  清潔さ  満足度  \n",
       "0        4              4         4    4    4  \n",
       "1        1              5         4    1    2  \n",
       "4        4              3         5    4    4  "
      ]
     },
     "execution_count": 26,
     "metadata": {},
     "output_type": "execute_result"
    }
   ],
   "source": [
    "satis_1 = df.query('Wifi設備>=4')\n",
    "satis_1.head(3)"
   ]
  },
  {
   "cell_type": "code",
   "execution_count": 27,
   "id": "b582cb5c-ead8-4df1-8e1b-ca4427feb576",
   "metadata": {},
   "outputs": [
    {
     "name": "stdout",
     "output_type": "stream",
     "text": [
      "Wifi設備3以下：2.880694143167028\n",
      "Wifi設備4以上：3.9218800648298218\n"
     ]
    }
   ],
   "source": [
    "print(f'Wifi設備3以下：{satis_0[\"満足度\"].mean()}')\n",
    "print(f'Wifi設備4以上：{satis_1[\"満足度\"].mean()}')"
   ]
  },
  {
   "cell_type": "markdown",
   "id": "67c87f8f-f464-4daf-8b43-19d527c97742",
   "metadata": {},
   "source": [
    "### 仮説立て\n",
    " - Wifi 設備の評価が 4 以上の人は満足度を高くつける傾向になる"
   ]
  },
  {
   "cell_type": "markdown",
   "id": "0da7ccdf-03c7-4f41-9030-2dede66428e2",
   "metadata": {},
   "source": [
    "### 仮説が正しいか検証"
   ]
  },
  {
   "cell_type": "code",
   "execution_count": 30,
   "id": "0fa67a74-aac5-408a-a9f2-a2082421d65d",
   "metadata": {},
   "outputs": [
    {
     "data": {
      "image/png": "[encoded data removed]",
      "text/plain": [
       "<Figure size 720x432 with 2 Axes>"
      ]
     },
     "metadata": {
      "needs_background": "light"
     },
     "output_type": "display_data"
    }
   ],
   "source": [
    "# 正規性の確認\n",
    "plt.subplot(1, 2, 1)\n",
    "sns.distplot(satis_0['満足度'])\n",
    "plt.subplot(1, 2, 2)\n",
    "sns.distplot(satis_1['満足度'])\n",
    "plt.tight_layout()"
   ]
  },
  {
   "cell_type": "code",
   "execution_count": 32,
   "id": "8f672fde-0f49-4c0c-8ddd-154beb4fe824",
   "metadata": {},
   "outputs": [
    {
     "name": "stdout",
     "output_type": "stream",
     "text": [
      "KstestResult(statistic=0.920416896251387, pvalue=0.0)\n",
      "KstestResult(statistic=0.9772498680518208, pvalue=0.0)\n"
     ]
    }
   ],
   "source": [
    "print(stats.kstest(satis_0['満足度'], \"norm\")) # 正規分布ではない\n",
    "print(stats.kstest(satis_1['満足度'], \"norm\")) # 正規分布ではない"
   ]
  },
  {
   "cell_type": "markdown",
   "id": "41d83b6b-45a3-444a-a9ff-8ae58b7d748c",
   "metadata": {},
   "source": [
    "- 仮説立て\n",
    "   - 帰無仮説: 2 群間の平均値に差がない\n",
    "   - 対立仮説: 2 群間の平均値に差がある\n",
    "- 有意水準\n",
    "   - 5%\n",
    "- p値"
   ]
  },
  {
   "cell_type": "code",
   "execution_count": 33,
   "id": "1f44cad4-83ad-4bd5-b0ba-fa2162342e0e",
   "metadata": {},
   "outputs": [
    {
     "data": {
      "text/plain": [
       "MannwhitneyuResult(statistic=4353567.0, pvalue=0.0)"
      ]
     },
     "execution_count": 33,
     "metadata": {},
     "output_type": "execute_result"
    }
   ],
   "source": [
    "stats.mannwhitneyu(satis_0['満足度'], satis_1['満足度'], alternative='two-sided')"
   ]
  },
  {
   "cell_type": "code",
   "execution_count": null,
   "id": "ca6aaa46-b1cf-4886-a11c-5ab09edf5904",
   "metadata": {},
   "outputs": [],
   "source": []
  }
 ],
 "metadata": {
  "kernelspec": {
   "display_name": "default:Python",
   "language": "python",
   "name": "conda-env-default-py"
  },
  "language_info": {
   "codemirror_mode": {
    "name": "ipython",
    "version": 3
   },
   "file_extension": ".py",
   "mimetype": "text/x-python",
   "name": "python",
   "nbconvert_exporter": "python",
   "pygments_lexer": "ipython3",
   "version": "3.9.12"
  }
 },
 "nbformat": 4,
 "nbformat_minor": 5
}
